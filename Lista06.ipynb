{
  "nbformat": 4,
  "nbformat_minor": 0,
  "metadata": {
    "colab": {
      "name": "Lista06.ipynb",
      "provenance": [],
      "collapsed_sections": [],
      "authorship_tag": "ABX9TyN84+6eEwHYf+aogeeYdc1Q",
      "include_colab_link": true
    },
    "kernelspec": {
      "name": "python3",
      "display_name": "Python 3"
    }
  },
  "cells": [
    {
      "cell_type": "markdown",
      "metadata": {
        "id": "view-in-github",
        "colab_type": "text"
      },
      "source": [
        "<a href=\"https://colab.research.google.com/github/Gabriel1104-King/ADS025/blob/master/Lista06.ipynb\" target=\"_parent\"><img src=\"https://colab.research.google.com/assets/colab-badge.svg\" alt=\"Open In Colab\"/></a>"
      ]
    },
    {
      "cell_type": "code",
      "metadata": {
        "id": "QXqIxiD6yvf_",
        "colab": {
          "base_uri": "https://localhost:8080/",
          "height": 405
        },
        "outputId": "9f4da42b-f9cb-4a8f-98f8-9028d8f9b2a0"
      },
      "source": [
        "#Disciplina:Probabilidade e  Estatística\n",
        "#Aluno: Gabriel Caldeira\n",
        "#Matricula:20114290082\n",
        "#Lista: 6\n",
        "\n",
        "#Questão _01\n",
        "'''import pandas as pd\n",
        "Valores = {'Matemática':[60,58,73,51,54,75,48,72,75,83,62,52],  'Música':[80,62,70,83,62,92,79,88,54,82,64,69]}\n",
        "x = pd.DataFrame(Valores,columns = ['Matemática','Música'])\n",
        "Criança = x.corr()\n",
        "print(Criança)'''\n",
        "\n",
        "#Questão _02\n",
        "'''Desprezível,pois positivo ou negativo indica uma correlação desprezível'''\n",
        "\n",
        "#Questão_03\n",
        "'''import pandas as pd\n",
        "Dados = {'Anos de serviço':[2,3,4,5,4,6,7,8,8,10],'N° de clientes':[48,50,56,52,43,60,62,58,64,72]}\n",
        "x = pd.DataFrame (Dados,columns=['Anos de serviço', 'N° de clientes'])\n",
        "Associação =x .corr()\n",
        "print(Associação)'''\n",
        "\n",
        "#Questão_04\n",
        "'''import pandas as pd\n",
        "Famílias = {'x':[12,16,18,20,28,30,40,48,50,54],'y':[7.2,7.4,7.0,6.5,6.6,6.7,6.0,5.6,6.0,5.5]}\n",
        "Renda = pd.DataFrame(Famílias,columns=['x','y'])\n",
        "Brutal = Renda.corr()\n",
        "print(Brutal)'''\n",
        "\n",
        "#Questão_05\n",
        "'''#A)\n",
        "import statistics\n",
        "Conjunto1 = {\n",
        "    'X':[10,8,13,9,11,14,6,4,12,7,5], \n",
        "    'Y':[8.04,6.95,7.58,8.81,8.33,9.96,7.24,4.26,10.84,4.82,5.68]\n",
        "}\n",
        "Relação=statistics.mean(Conjunto1['Y'])\n",
        "print('Á média é:',Relação)\n",
        "Relação11=statistics.stdev(Conjunto1['Y'])\n",
        "print('O desvio padrão é:',Relação11)\n",
        "\n",
        "#B)\n",
        "import statistics\n",
        "Conjunto2 ={\n",
        "    'X':[10,8,13,9,6,11,14,6,4,12,7,5],\n",
        "    '2':[9.14,8.14,8.74,8.77,9.26,8.10,6.13,3.10,9.13,7.26,4.74]\n",
        "}\n",
        "Relação2 = statistics.mean(Conjunto2['2'])\n",
        "print('Á média do conjunto 2 é:',Relação2)\n",
        "Relação22=statistics.stdev(Conjunto2['2'])\n",
        "print('O desvio padrão é:',Relação22)\n",
        "\n",
        "import statistics\n",
        "Conjunto3 = {\n",
        "    'X':[10,8,13,9,11,14,6,4,12,7,5],\n",
        "    '3':[7.46,6.77,12.74,7.11,7.81,8.84,6.08,5.39,8.15,6.42,5.73]\n",
        "}\n",
        "Relção3 = statistics.mean(Conjunto3['3'])\n",
        "print('Á média do conjunto 3 é:',Relção3)\n",
        "Relação33=statistics.stdev(Conjunto3['3'])\n",
        "print('O desvio padrão é:',Relação33)\n",
        "\n",
        "import statistics\n",
        "Conjunto4 = {\n",
        "    'X':[8,8,8,8,8,8,8,19,8,8,8],\n",
        "    'Y':[6.58,5.76,7.71,8.84,8.47,7.04,5.25,12.50,5.56,7.91,6.89]\n",
        "}\n",
        "Relação4 = statistics.mean(Conjunto4['Y'])\n",
        "print('Á média do conjunto 4 é:',Relação4)\n",
        "Relação44 = statistics.stdev(Conjunto4['Y'])\n",
        "print('O desvio padrão é:',Relação44)\n",
        "\n",
        "#B)\n",
        "import pandas as pd\n",
        "Conjunto1 = {\n",
        "    'X':[10,8,13,9,11,14,6,4,12,7,5], \n",
        "    'Y':[8.04,6.95,7.58,8.81,8.33,9.96,7.24,4.26,10.84,4.82,5.68]\n",
        "}\n",
        "Relção1 = pd.DataFrame(Conjunto1,columns=['X','Y'])\n",
        "rel=Relção1.corr()\n",
        "print('conjunto1:',rel)\n",
        "\n",
        "import pandas as pd\n",
        "Conjuntos2={\n",
        "    'X':[10,8,13,9,11,14,6,4,12,7,5],\n",
        "    'Y':[9.14,8.14,8.74,8.77,9.26,8.10,6.13,3.10,9.13,7.26,4.74]\n",
        "}\n",
        "Relação2222=pd.DataFrame(Conjuntos2,columns=['X','Y'])\n",
        "rel12=Relação2222.corr()\n",
        "print('Conjunto2:',rel12)\n",
        "\n",
        "import pandas as pd\n",
        "Conjuntos3={\n",
        "    'X':[10,8,13,9,11,14,6,4,12,7,5],\n",
        "    'Y':[7.46,6.77,12.74,7.11,7.81,8.84,6.08,5.39,8.15,6.42,5.73]\n",
        "}\n",
        "Relação3333=pd.DataFrame(Conjuntos3,columns=['X','Y'])\n",
        "rel13=Relação3333.corr()\n",
        "print('Conjunto3:',rel13)\n",
        "\n",
        "import pandas as pd\n",
        "Conjuntos4 = {\n",
        "    'X':[8,8,8,8,8,8,8,19,8,8,8],\n",
        "    'Y':[6.58,5.76,7.71,8.84,8.47,7.04,5.25,12.50,5.56,7.91,6.89]\n",
        "}\n",
        "Relação4444=pd.DataFrame(Conjuntos4,columns=['X','Y'])\n",
        "rel14=Relação4444.corr()\n",
        "print('Conjunto4s:',rel14)'''\n",
        "\n",
        "#Questão_06\n",
        "'''import pandas as pd\n",
        "import seaborn as sn\n",
        "import matplotlib.pyplot as plt\n",
        "produtividade = {'Produtividade':[100,102,105,108,112,120],'Alimentação':[4,5,1,3,6,2],'Exercícios':[1,3,2,4,5,6],'Rodízio':[3,1,2,6,4,5]}\n",
        "DR = pd.DataFrame(produtividade,columns=['Produtividade','Alimentação','Exercícios','Rodízio'])\n",
        "Pessoas=DR.corr()\n",
        "sn.heatmap(Pessoas,annot=True)\n",
        "plt.show'''"
      ],
      "execution_count": 2,
      "outputs": [
        {
          "output_type": "stream",
          "text": [
            "Á média é: 7.500909090909091\n",
            "O desvio padrão é: 2.031568135925815\n",
            "Á média do conjunto 2 é: 7.500909090909091\n",
            "O desvio padrão é: 2.0316567355016177\n",
            "Á média do conjunto 3 é: 7.5\n",
            "O desvio padrão é: 2.030423601123667\n",
            "Á média do conjunto 4 é: 7.500909090909091\n",
            "O desvio padrão é: 2.0305785113876023\n",
            "conjunto1:           X         Y\n",
            "X  1.000000  0.816421\n",
            "Y  0.816421  1.000000\n",
            "Conjunto2:           X         Y\n",
            "X  1.000000  0.816237\n",
            "Y  0.816237  1.000000\n",
            "Conjunto3:           X         Y\n",
            "X  1.000000  0.816287\n",
            "Y  0.816287  1.000000\n",
            "Conjunto4s:           X         Y\n",
            "X  1.000000  0.816521\n",
            "Y  0.816521  1.000000\n"
          ],
          "name": "stdout"
        },
        {
          "output_type": "execute_result",
          "data": {
            "application/vnd.google.colaboratory.intrinsic+json": {
              "type": "string"
            },
            "text/plain": [
              "\"import pandas as pd\\nimport seaborn as sn\\nimport matplotlib.pyplot as plt\\nprodutividade = {'Produtividade':[100,102,105,108,112,120],'Alimentação':[4,5,1,3,6,2],'Exercícios':[1,3,2,4,5,6],'Rodízio':[3,1,2,6,4,5]}\\nDR = pd.DataFrame(produtividade,columns=['Produtividade','Alimentação','Exercícios','Rodízio'])\\nPessoas=DR.corr()\\nsn.heatmap(Pessoas,annot=True)\\nplt.show\""
            ]
          },
          "metadata": {
            "tags": []
          },
          "execution_count": 2
        }
      ]
    }
  ]
}